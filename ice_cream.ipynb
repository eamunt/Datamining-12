{
  "nbformat": 4,
  "nbformat_minor": 0,
  "metadata": {
    "colab": {
      "name": "ice_cream.ipynb",
      "provenance": []
    },
    "kernelspec": {
      "name": "python3",
      "display_name": "Python 3"
    },
    "language_info": {
      "name": "python"
    }
  },
  "cells": [
    {
      "cell_type": "code",
      "metadata": {
        "id": "rmEUILcGJbaY"
      },
      "source": [
        "# Nạp các gói thư viện cần thiết\n",
        "import pandas as pd\n",
        "import numpy as np\n",
        "from sklearn.metrics import confusion_matrix\n",
        "from sklearn.metrics import accuracy_score\n",
        "import matplotlib.pyplot as plt\n",
        "import seaborn as sns"
      ],
      "execution_count": 20,
      "outputs": []
    },
    {
      "cell_type": "code",
      "metadata": {
        "colab": {
          "base_uri": "https://localhost:8080/"
        },
        "id": "fFHgVCFVJer2",
        "outputId": "b4b2052b-f244-4f56-db64-38792bcf85e6"
      },
      "source": [
        "# Đọc dữ liệu\n",
        "df = pd.read_csv('https://www.sheffield.ac.uk/polopoly_fs/1.937201!/file/Ice_cream_R.csv')\n",
        "X = df.iloc[:,[1,3,4]]\n",
        "y = df.ice_cream\n",
        "print(df.describe())\n",
        "print(\"Kiem tra xem du lieu co bi thieu (NULL) khong?\")\n",
        "print(df.isnull().sum())"
      ],
      "execution_count": 21,
      "outputs": [
        {
          "output_type": "stream",
          "name": "stdout",
          "text": [
            "               id     female   ice_cream       video      puzzle\n",
            "count  200.000000  200.00000  200.000000  200.000000  200.000000\n",
            "mean   100.500000    0.54500    1.815000   51.850000   52.405000\n",
            "std     57.879185    0.49922    0.856999    9.900891   10.735793\n",
            "min      1.000000    0.00000    1.000000   26.000000   26.000000\n",
            "25%     50.750000    0.00000    1.000000   44.000000   46.000000\n",
            "50%    100.500000    1.00000    2.000000   53.000000   52.000000\n",
            "75%    150.250000    1.00000    3.000000   58.000000   61.000000\n",
            "max    200.000000    1.00000    3.000000   74.000000   71.000000\n",
            "Kiem tra xem du lieu co bi thieu (NULL) khong?\n",
            "id           0\n",
            "female       0\n",
            "ice_cream    0\n",
            "video        0\n",
            "puzzle       0\n",
            "dtype: int64\n"
          ]
        }
      ]
    },
    {
      "cell_type": "code",
      "metadata": {
        "id": "hVAiadPyU-Fj"
      },
      "source": [
        "# Sử dụng nghi thức kiểm tra hold-out\n",
        "# Chia dữ liệu ngẫu nhiên thành 2 tập dữ liệu con:\n",
        "# training set và test set theo tỷ lệ 70/30\n",
        "from sklearn.model_selection import train_test_split\n",
        "X_train, X_test, y_train, y_test = train_test_split(X, y, test_size=0.3)\n",
        "#print(X_train.shape, y_train.shape)\n",
        "#print(X_test.shape, y_test.shape)"
      ],
      "execution_count": 22,
      "outputs": []
    },
    {
      "cell_type": "code",
      "metadata": {
        "colab": {
          "base_uri": "https://localhost:8080/",
          "height": 265
        },
        "id": "3eWeELGKOaMt",
        "outputId": "eb17b1b4-1889-4979-9067-d48ec444fcda"
      },
      "source": [
        "from sklearn import tree\n",
        "# Xây dựng mô hình với giải thuật Cây quyết định\n",
        "model_DT = tree.DecisionTreeClassifier(criterion=\"gini\")\n",
        "model_DT.fit(X_train, y_train)\n",
        "# Dự đoán nhãn tập kiểm tra\n",
        "y_pred = model_DT.predict(X_test)\n",
        "#print(y_pred)\n",
        "# Tính độ chính xác\n",
        "print(\"Do chinh xac cua mo hinh Cay quyet dinh voi nghi thuc kiem tra hold-out: %.3f\" %accuracy_score(y_test, y_pred))\n",
        "# Hiển thị cây\n",
        "tree.plot_tree(model_DT.fit(X, y))\n",
        "plt.show()"
      ],
      "execution_count": 23,
      "outputs": [
        {
          "output_type": "stream",
          "name": "stdout",
          "text": [
            "Do chinh xac cua mo hinh Cay quyet dinh voi nghi thuc kiem tra hold-out: 0.500\n"
          ]
        },
        {
          "output_type": "display_data",
          "data": {
            "image/png": "[encoded data removed]",
            "text/plain": [
              "<Figure size 432x288 with 1 Axes>"
            ]
          },
          "metadata": {
            "needs_background": "light"
          }
        }
      ]
    },
    {
      "cell_type": "code",
      "metadata": {
        "colab": {
          "base_uri": "https://localhost:8080/"
        },
        "id": "IBh_VUfUOd90",
        "outputId": "816a8dbb-6b12-41e5-91c0-8ee0c4ab554c"
      },
      "source": [
        "from sklearn.naive_bayes import GaussianNB\n",
        "# Xây dựng mô hình với giải thuật Naive Bayes\n",
        "model_Bayes = GaussianNB()\n",
        "model_Bayes.fit(X_train, y_train)\n",
        "# Dự đoán nhãn tập kiểm tra\n",
        "y_pred = model_Bayes.predict(X_test)\n",
        "#print(y_pred)\n",
        "# Tính độ chính xác\n",
        "print(\"Do chinh xác cua mo hinh Naive Bayes voi nghi thuc kiem tra hold-out: %.3f\" %accuracy_score(y_test, y_pred))"
      ],
      "execution_count": 24,
      "outputs": [
        {
          "output_type": "stream",
          "name": "stdout",
          "text": [
            "Do chinh xác cua mo hinh Naive Bayes voi nghi thuc kiem tra hold-out: 0.533\n"
          ]
        }
      ]
    },
    {
      "cell_type": "code",
      "metadata": {
        "colab": {
          "base_uri": "https://localhost:8080/"
        },
        "id": "nLZd6brdOgjk",
        "outputId": "6e9f3dc3-c06f-4ac5-e396-0ab6f5396813"
      },
      "source": [
        "from sklearn.neighbors import KNeighborsClassifier\n",
        "# Xây dựng mô hình KNN với k = 3\n",
        "model_KNN = KNeighborsClassifier(n_neighbors=3)\n",
        "model_KNN.fit(X_train, y_train)\n",
        "# Dự đoán nhãn tập kiểm tra\n",
        "y_pred = model_KNN.predict(X_test)\n",
        "#print(y_pred)\n",
        "# Tính độ chính xác\n",
        "print(\"Do chinh xác cua mo hinh KNN voi nghi thuc kiem tra hold-out: %.3f\" %model_KNN.score(X_test, y_test))"
      ],
      "execution_count": 25,
      "outputs": [
        {
          "output_type": "stream",
          "name": "stdout",
          "text": [
            "Do chinh xác cua mo hinh KNN voi nghi thuc kiem tra hold-out: 0.500\n"
          ]
        }
      ]
    }
  ]
}