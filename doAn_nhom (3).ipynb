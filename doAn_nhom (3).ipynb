{
  "nbformat": 4,
  "nbformat_minor": 0,
  "metadata": {
    "colab": {
      "name": "doAn_nhom.ipynb",
      "provenance": [],
      "collapsed_sections": []
    },
    "kernelspec": {
      "name": "python3",
      "display_name": "Python 3"
    },
    "language_info": {
      "name": "python"
    }
  },
  "cells": [
    {
      "cell_type": "markdown",
      "metadata": {
        "id": "rao5YqrXVK46"
      },
      "source": [
        "#cài đặt pyreadstat để đọc sav files"
      ]
    },
    {
      "cell_type": "code",
      "metadata": {
        "colab": {
          "base_uri": "https://localhost:8080/"
        },
        "id": "kdfylV_oU-gf",
        "outputId": "473dbf85-a098-41e3-bfba-e601eacb8bd6"
      },
      "source": [
        "!pip install pyreadstat"
      ],
      "execution_count": 121,
      "outputs": [
        {
          "output_type": "stream",
          "name": "stdout",
          "text": [
            "Requirement already satisfied: pyreadstat in /usr/local/lib/python3.7/dist-packages (1.1.4)\n",
            "Requirement already satisfied: pandas>=1.2.0 in /usr/local/lib/python3.7/dist-packages (from pyreadstat) (1.3.5)\n",
            "Requirement already satisfied: pytz>=2017.3 in /usr/local/lib/python3.7/dist-packages (from pandas>=1.2.0->pyreadstat) (2018.9)\n",
            "Requirement already satisfied: python-dateutil>=2.7.3 in /usr/local/lib/python3.7/dist-packages (from pandas>=1.2.0->pyreadstat) (2.8.2)\n",
            "Requirement already satisfied: numpy>=1.17.3 in /usr/local/lib/python3.7/dist-packages (from pandas>=1.2.0->pyreadstat) (1.19.5)\n",
            "Requirement already satisfied: six>=1.5 in /usr/local/lib/python3.7/dist-packages (from python-dateutil>=2.7.3->pandas>=1.2.0->pyreadstat) (1.15.0)\n"
          ]
        }
      ]
    },
    {
      "cell_type": "markdown",
      "metadata": {
        "id": "Tfa3E_LTRR5t"
      },
      "source": [
        "#Nạp dữ liệu"
      ]
    },
    {
      "cell_type": "code",
      "metadata": {
        "colab": {
          "base_uri": "https://localhost:8080/",
          "height": 423
        },
        "id": "VM2Q-NkEQPso",
        "outputId": "d5a5e40e-585e-4204-e869-e2cf490d2953"
      },
      "source": [
        "#import các thư viện\n",
        "import pandas as pd\n",
        "import numpy as np\n",
        "import seaborn as sns\n",
        "import matplotlib.pyplot as plt\n",
        "from sklearn.metrics import confusion_matrix\n",
        "from sklearn.metrics import accuracy_score\n",
        "import seaborn as sns\n",
        "from sklearn.naive_bayes import GaussianNB\n",
        "from sklearn import tree\n",
        "from sklearn.tree import DecisionTreeClassifier\n",
        "from sklearn.neighbors import KNeighborsClassifier\n",
        "from imblearn.over_sampling import SMOTE\n",
        "\n",
        "\n",
        "\n",
        "df = pd.read_csv(\"https://www.sheffield.ac.uk/polopoly_fs/1.937201!/file/Ice_cream_R.csv\")\n",
        "#đọc file sav\n",
        "# sav = pd.read_spss(\"https://www.sheffield.ac.uk/polopoly_fs/1.937202!/file/Ice_cream_SPSS.sav\")\n",
        "df"
      ],
      "execution_count": 122,
      "outputs": [
        {
          "output_type": "execute_result",
          "data": {
            "text/html": [
              "\n",
              "  <div id=\"df-ad358678-4231-410d-bc6f-db2151695570\">\n",
              "    <div class=\"colab-df-container\">\n",
              "      <div>\n",
              "<style scoped>\n",
              "    .dataframe tbody tr th:only-of-type {\n",
              "        vertical-align: middle;\n",
              "    }\n",
              "\n",
              "    .dataframe tbody tr th {\n",
              "        vertical-align: top;\n",
              "    }\n",
              "\n",
              "    .dataframe thead th {\n",
              "        text-align: right;\n",
              "    }\n",
              "</style>\n",
              "<table border=\"1\" class=\"dataframe\">\n",
              "  <thead>\n",
              "    <tr style=\"text-align: right;\">\n",
              "      <th></th>\n",
              "      <th>id</th>\n",
              "      <th>female</th>\n",
              "      <th>ice_cream</th>\n",
              "      <th>video</th>\n",
              "      <th>puzzle</th>\n",
              "    </tr>\n",
              "  </thead>\n",
              "  <tbody>\n",
              "    <tr>\n",
              "      <th>0</th>\n",
              "      <td>70</td>\n",
              "      <td>0</td>\n",
              "      <td>2</td>\n",
              "      <td>47</td>\n",
              "      <td>57</td>\n",
              "    </tr>\n",
              "    <tr>\n",
              "      <th>1</th>\n",
              "      <td>121</td>\n",
              "      <td>1</td>\n",
              "      <td>1</td>\n",
              "      <td>63</td>\n",
              "      <td>61</td>\n",
              "    </tr>\n",
              "    <tr>\n",
              "      <th>2</th>\n",
              "      <td>86</td>\n",
              "      <td>0</td>\n",
              "      <td>3</td>\n",
              "      <td>58</td>\n",
              "      <td>31</td>\n",
              "    </tr>\n",
              "    <tr>\n",
              "      <th>3</th>\n",
              "      <td>141</td>\n",
              "      <td>0</td>\n",
              "      <td>3</td>\n",
              "      <td>53</td>\n",
              "      <td>56</td>\n",
              "    </tr>\n",
              "    <tr>\n",
              "      <th>4</th>\n",
              "      <td>172</td>\n",
              "      <td>0</td>\n",
              "      <td>1</td>\n",
              "      <td>53</td>\n",
              "      <td>61</td>\n",
              "    </tr>\n",
              "    <tr>\n",
              "      <th>...</th>\n",
              "      <td>...</td>\n",
              "      <td>...</td>\n",
              "      <td>...</td>\n",
              "      <td>...</td>\n",
              "      <td>...</td>\n",
              "    </tr>\n",
              "    <tr>\n",
              "      <th>195</th>\n",
              "      <td>31</td>\n",
              "      <td>1</td>\n",
              "      <td>1</td>\n",
              "      <td>42</td>\n",
              "      <td>56</td>\n",
              "    </tr>\n",
              "    <tr>\n",
              "      <th>196</th>\n",
              "      <td>145</td>\n",
              "      <td>1</td>\n",
              "      <td>1</td>\n",
              "      <td>36</td>\n",
              "      <td>46</td>\n",
              "    </tr>\n",
              "    <tr>\n",
              "      <th>197</th>\n",
              "      <td>187</td>\n",
              "      <td>1</td>\n",
              "      <td>1</td>\n",
              "      <td>55</td>\n",
              "      <td>52</td>\n",
              "    </tr>\n",
              "    <tr>\n",
              "      <th>198</th>\n",
              "      <td>118</td>\n",
              "      <td>1</td>\n",
              "      <td>1</td>\n",
              "      <td>58</td>\n",
              "      <td>61</td>\n",
              "    </tr>\n",
              "    <tr>\n",
              "      <th>199</th>\n",
              "      <td>137</td>\n",
              "      <td>1</td>\n",
              "      <td>3</td>\n",
              "      <td>53</td>\n",
              "      <td>61</td>\n",
              "    </tr>\n",
              "  </tbody>\n",
              "</table>\n",
              "<p>200 rows × 5 columns</p>\n",
              "</div>\n",
              "      <button class=\"colab-df-convert\" onclick=\"convertToInteractive('df-ad358678-4231-410d-bc6f-db2151695570')\"\n",
              "              title=\"Convert this dataframe to an interactive table.\"\n",
              "              style=\"display:none;\">\n",
              "        \n",
              "  <svg xmlns=\"http://www.w3.org/2000/svg\" height=\"24px\"viewBox=\"0 0 24 24\"\n",
              "       width=\"24px\">\n",
              "    <path d=\"M0 0h24v24H0V0z\" fill=\"none\"/>\n",
              "    <path d=\"M18.56 5.44l.94 2.06.94-2.06 2.06-.94-2.06-.94-.94-2.06-.94 2.06-2.06.94zm-11 1L8.5 8.5l.94-2.06 2.06-.94-2.06-.94L8.5 2.5l-.94 2.06-2.06.94zm10 10l.94 2.06.94-2.06 2.06-.94-2.06-.94-.94-2.06-.94 2.06-2.06.94z\"/><path d=\"M17.41 7.96l-1.37-1.37c-.4-.4-.92-.59-1.43-.59-.52 0-1.04.2-1.43.59L10.3 9.45l-7.72 7.72c-.78.78-.78 2.05 0 2.83L4 21.41c.39.39.9.59 1.41.59.51 0 1.02-.2 1.41-.59l7.78-7.78 2.81-2.81c.8-.78.8-2.07 0-2.86zM5.41 20L4 18.59l7.72-7.72 1.47 1.35L5.41 20z\"/>\n",
              "  </svg>\n",
              "      </button>\n",
              "      \n",
              "  <style>\n",
              "    .colab-df-container {\n",
              "      display:flex;\n",
              "      flex-wrap:wrap;\n",
              "      gap: 12px;\n",
              "    }\n",
              "\n",
              "    .colab-df-convert {\n",
              "      background-color: #E8F0FE;\n",
              "      border: none;\n",
              "      border-radius: 50%;\n",
              "      cursor: pointer;\n",
              "      display: none;\n",
              "      fill: #1967D2;\n",
              "      height: 32px;\n",
              "      padding: 0 0 0 0;\n",
              "      width: 32px;\n",
              "    }\n",
              "\n",
              "    .colab-df-convert:hover {\n",
              "      background-color: #E2EBFA;\n",
              "      box-shadow: 0px 1px 2px rgba(60, 64, 67, 0.3), 0px 1px 3px 1px rgba(60, 64, 67, 0.15);\n",
              "      fill: #174EA6;\n",
              "    }\n",
              "\n",
              "    [theme=dark] .colab-df-convert {\n",
              "      background-color: #3B4455;\n",
              "      fill: #D2E3FC;\n",
              "    }\n",
              "\n",
              "    [theme=dark] .colab-df-convert:hover {\n",
              "      background-color: #434B5C;\n",
              "      box-shadow: 0px 1px 3px 1px rgba(0, 0, 0, 0.15);\n",
              "      filter: drop-shadow(0px 1px 2px rgba(0, 0, 0, 0.3));\n",
              "      fill: #FFFFFF;\n",
              "    }\n",
              "  </style>\n",
              "\n",
              "      <script>\n",
              "        const buttonEl =\n",
              "          document.querySelector('#df-ad358678-4231-410d-bc6f-db2151695570 button.colab-df-convert');\n",
              "        buttonEl.style.display =\n",
              "          google.colab.kernel.accessAllowed ? 'block' : 'none';\n",
              "\n",
              "        async function convertToInteractive(key) {\n",
              "          const element = document.querySelector('#df-ad358678-4231-410d-bc6f-db2151695570');\n",
              "          const dataTable =\n",
              "            await google.colab.kernel.invokeFunction('convertToInteractive',\n",
              "                                                     [key], {});\n",
              "          if (!dataTable) return;\n",
              "\n",
              "          const docLinkHtml = 'Like what you see? Visit the ' +\n",
              "            '<a target=\"_blank\" href=https://colab.research.google.com/notebooks/data_table.ipynb>data table notebook</a>'\n",
              "            + ' to learn more about interactive tables.';\n",
              "          element.innerHTML = '';\n",
              "          dataTable['output_type'] = 'display_data';\n",
              "          await google.colab.output.renderOutput(dataTable, element);\n",
              "          const docLink = document.createElement('div');\n",
              "          docLink.innerHTML = docLinkHtml;\n",
              "          element.appendChild(docLink);\n",
              "        }\n",
              "      </script>\n",
              "    </div>\n",
              "  </div>\n",
              "  "
            ],
            "text/plain": [
              "      id  female  ice_cream  video  puzzle\n",
              "0     70       0          2     47      57\n",
              "1    121       1          1     63      61\n",
              "2     86       0          3     58      31\n",
              "3    141       0          3     53      56\n",
              "4    172       0          1     53      61\n",
              "..   ...     ...        ...    ...     ...\n",
              "195   31       1          1     42      56\n",
              "196  145       1          1     36      46\n",
              "197  187       1          1     55      52\n",
              "198  118       1          1     58      61\n",
              "199  137       1          3     53      61\n",
              "\n",
              "[200 rows x 5 columns]"
            ]
          },
          "metadata": {},
          "execution_count": 122
        }
      ]
    },
    {
      "cell_type": "code",
      "metadata": {
        "colab": {
          "base_uri": "https://localhost:8080/",
          "height": 408
        },
        "id": "ckruDrcMUYbd",
        "outputId": "00cc8b25-b0af-425c-b7f3-130f2fa75cc4"
      },
      "source": [
        "sav"
      ],
      "execution_count": null,
      "outputs": [
        {
          "output_type": "execute_result",
          "data": {
            "text/html": [
              "<div>\n",
              "<style scoped>\n",
              "    .dataframe tbody tr th:only-of-type {\n",
              "        vertical-align: middle;\n",
              "    }\n",
              "\n",
              "    .dataframe tbody tr th {\n",
              "        vertical-align: top;\n",
              "    }\n",
              "\n",
              "    .dataframe thead th {\n",
              "        text-align: right;\n",
              "    }\n",
              "</style>\n",
              "<table border=\"1\" class=\"dataframe\">\n",
              "  <thead>\n",
              "    <tr style=\"text-align: right;\">\n",
              "      <th></th>\n",
              "      <th>id</th>\n",
              "      <th>female</th>\n",
              "      <th>ice_cream</th>\n",
              "      <th>video</th>\n",
              "      <th>puzzle</th>\n",
              "    </tr>\n",
              "  </thead>\n",
              "  <tbody>\n",
              "    <tr>\n",
              "      <th>0</th>\n",
              "      <td>70.0</td>\n",
              "      <td>male</td>\n",
              "      <td>chocolate</td>\n",
              "      <td>47.0</td>\n",
              "      <td>57.0</td>\n",
              "    </tr>\n",
              "    <tr>\n",
              "      <th>1</th>\n",
              "      <td>121.0</td>\n",
              "      <td>female</td>\n",
              "      <td>vanilla</td>\n",
              "      <td>63.0</td>\n",
              "      <td>61.0</td>\n",
              "    </tr>\n",
              "    <tr>\n",
              "      <th>2</th>\n",
              "      <td>86.0</td>\n",
              "      <td>male</td>\n",
              "      <td>strawberry</td>\n",
              "      <td>58.0</td>\n",
              "      <td>31.0</td>\n",
              "    </tr>\n",
              "    <tr>\n",
              "      <th>3</th>\n",
              "      <td>141.0</td>\n",
              "      <td>male</td>\n",
              "      <td>strawberry</td>\n",
              "      <td>53.0</td>\n",
              "      <td>56.0</td>\n",
              "    </tr>\n",
              "    <tr>\n",
              "      <th>4</th>\n",
              "      <td>172.0</td>\n",
              "      <td>male</td>\n",
              "      <td>vanilla</td>\n",
              "      <td>53.0</td>\n",
              "      <td>61.0</td>\n",
              "    </tr>\n",
              "    <tr>\n",
              "      <th>...</th>\n",
              "      <td>...</td>\n",
              "      <td>...</td>\n",
              "      <td>...</td>\n",
              "      <td>...</td>\n",
              "      <td>...</td>\n",
              "    </tr>\n",
              "    <tr>\n",
              "      <th>195</th>\n",
              "      <td>31.0</td>\n",
              "      <td>female</td>\n",
              "      <td>vanilla</td>\n",
              "      <td>42.0</td>\n",
              "      <td>56.0</td>\n",
              "    </tr>\n",
              "    <tr>\n",
              "      <th>196</th>\n",
              "      <td>145.0</td>\n",
              "      <td>female</td>\n",
              "      <td>vanilla</td>\n",
              "      <td>36.0</td>\n",
              "      <td>46.0</td>\n",
              "    </tr>\n",
              "    <tr>\n",
              "      <th>197</th>\n",
              "      <td>187.0</td>\n",
              "      <td>female</td>\n",
              "      <td>vanilla</td>\n",
              "      <td>55.0</td>\n",
              "      <td>52.0</td>\n",
              "    </tr>\n",
              "    <tr>\n",
              "      <th>198</th>\n",
              "      <td>118.0</td>\n",
              "      <td>female</td>\n",
              "      <td>vanilla</td>\n",
              "      <td>58.0</td>\n",
              "      <td>61.0</td>\n",
              "    </tr>\n",
              "    <tr>\n",
              "      <th>199</th>\n",
              "      <td>137.0</td>\n",
              "      <td>female</td>\n",
              "      <td>strawberry</td>\n",
              "      <td>53.0</td>\n",
              "      <td>61.0</td>\n",
              "    </tr>\n",
              "  </tbody>\n",
              "</table>\n",
              "<p>200 rows × 5 columns</p>\n",
              "</div>"
            ],
            "text/plain": [
              "        id  female   ice_cream  video  puzzle\n",
              "0     70.0    male   chocolate   47.0    57.0\n",
              "1    121.0  female     vanilla   63.0    61.0\n",
              "2     86.0    male  strawberry   58.0    31.0\n",
              "3    141.0    male  strawberry   53.0    56.0\n",
              "4    172.0    male     vanilla   53.0    61.0\n",
              "..     ...     ...         ...    ...     ...\n",
              "195   31.0  female     vanilla   42.0    56.0\n",
              "196  145.0  female     vanilla   36.0    46.0\n",
              "197  187.0  female     vanilla   55.0    52.0\n",
              "198  118.0  female     vanilla   58.0    61.0\n",
              "199  137.0  female  strawberry   53.0    61.0\n",
              "\n",
              "[200 rows x 5 columns]"
            ]
          },
          "metadata": {},
          "execution_count": 3
        }
      ]
    },
    {
      "cell_type": "markdown",
      "metadata": {
        "id": "BiTgin3TP1NL"
      },
      "source": [
        "#**Tìm hiểu dữ liệu**"
      ]
    },
    {
      "cell_type": "code",
      "metadata": {
        "colab": {
          "base_uri": "https://localhost:8080/"
        },
        "id": "tjKlNGKYNUSM",
        "outputId": "42c2c0b0-4277-4469-dbb8-ebef7aa4d203"
      },
      "source": [
        "df.info()"
      ],
      "execution_count": 123,
      "outputs": [
        {
          "output_type": "stream",
          "name": "stdout",
          "text": [
            "<class 'pandas.core.frame.DataFrame'>\n",
            "RangeIndex: 200 entries, 0 to 199\n",
            "Data columns (total 5 columns):\n",
            " #   Column     Non-Null Count  Dtype\n",
            "---  ------     --------------  -----\n",
            " 0   id         200 non-null    int64\n",
            " 1   female     200 non-null    int64\n",
            " 2   ice_cream  200 non-null    int64\n",
            " 3   video      200 non-null    int64\n",
            " 4   puzzle     200 non-null    int64\n",
            "dtypes: int64(5)\n",
            "memory usage: 7.9 KB\n"
          ]
        }
      ]
    },
    {
      "cell_type": "markdown",
      "metadata": {
        "id": "jUtMiO2DcFVs"
      },
      "source": [
        "#Tỷ lệ của các nhãn"
      ]
    },
    {
      "cell_type": "code",
      "metadata": {
        "colab": {
          "base_uri": "https://localhost:8080/"
        },
        "id": "FnmSb-JyR5Av",
        "outputId": "eeb31ef9-d163-49d6-ec26-0ca1b48d13cb"
      },
      "source": [
        "label = df['ice_cream'].value_counts()\n",
        "label\n",
        "#95: vani\n",
        "#58: strawberry\n",
        "#47: choco"
      ],
      "execution_count": 124,
      "outputs": [
        {
          "output_type": "execute_result",
          "data": {
            "text/plain": [
              "1    95\n",
              "3    58\n",
              "2    47\n",
              "Name: ice_cream, dtype: int64"
            ]
          },
          "metadata": {},
          "execution_count": 124
        }
      ]
    },
    {
      "cell_type": "markdown",
      "metadata": {
        "id": "OGsbAbW9IIwF"
      },
      "source": [
        "#Vani là nhóm kem phổ biến nhất"
      ]
    },
    {
      "cell_type": "code",
      "metadata": {
        "colab": {
          "base_uri": "https://localhost:8080/"
        },
        "id": "3vGfBozcaoYB",
        "outputId": "39d74cfa-2d3a-415a-9eea-501539060550"
      },
      "source": [
        "(df['ice_cream'].value_counts()/df['ice_cream'].count())* 100"
      ],
      "execution_count": 125,
      "outputs": [
        {
          "output_type": "execute_result",
          "data": {
            "text/plain": [
              "1    47.5\n",
              "3    29.0\n",
              "2    23.5\n",
              "Name: ice_cream, dtype: float64"
            ]
          },
          "metadata": {},
          "execution_count": 125
        }
      ]
    },
    {
      "cell_type": "code",
      "source": [
        "#biểu đồ tròn\n",
        "name_labels = 'vani', 'strawberry', 'chocolate'\n",
        "sizes = [label[1],label[2],label[3]]\n",
        "explode = (0, 0.1, 0) \n",
        "\n",
        "fig1, ax1 = plt.subplots()\n",
        "\n",
        "ax1.pie(sizes, explode=explode, labels=name_labels, autopct='%1.3f%%',\n",
        "        shadow=True, startangle=90)\n",
        "ax1.axis('equal')  \n",
        "\n",
        "plt.show()"
      ],
      "metadata": {
        "colab": {
          "base_uri": "https://localhost:8080/",
          "height": 248
        },
        "id": "OC6C5rPQzl2T",
        "outputId": "48051bfc-d8ec-489b-cf81-a26547c67b96"
      },
      "execution_count": 126,
      "outputs": [
        {
          "output_type": "display_data",
          "data": {
            "image/png": "[encoded data removed]",
            "text/plain": [
              "<Figure size 432x288 with 1 Axes>"
            ]
          },
          "metadata": {}
        }
      ]
    },
    {
      "cell_type": "markdown",
      "source": [
        "#Tỷ lệ nam và nữ"
      ],
      "metadata": {
        "id": "27hUdClFzzD6"
      }
    },
    {
      "cell_type": "code",
      "metadata": {
        "colab": {
          "base_uri": "https://localhost:8080/"
        },
        "id": "DUpqDe-ASN4G",
        "outputId": "9db29204-3ac8-4c38-83f2-388012055ec0"
      },
      "source": [
        "gender = df['female'].value_counts()\n",
        "gender\n",
        "#109 nữ, 91 nam"
      ],
      "execution_count": 127,
      "outputs": [
        {
          "output_type": "execute_result",
          "data": {
            "text/plain": [
              "1    109\n",
              "0     91\n",
              "Name: female, dtype: int64"
            ]
          },
          "metadata": {},
          "execution_count": 127
        }
      ]
    },
    {
      "cell_type": "code",
      "metadata": {
        "colab": {
          "base_uri": "https://localhost:8080/"
        },
        "id": "iasa4DpAa5-8",
        "outputId": "2b6f4a45-bb62-425c-b9cf-7b919d88df87"
      },
      "source": [
        "(df['female'].value_counts()/df['female'].count())*100"
      ],
      "execution_count": 128,
      "outputs": [
        {
          "output_type": "execute_result",
          "data": {
            "text/plain": [
              "1    54.5\n",
              "0    45.5\n",
              "Name: female, dtype: float64"
            ]
          },
          "metadata": {},
          "execution_count": 128
        }
      ]
    },
    {
      "cell_type": "code",
      "source": [
        "#biểu đồ tròn\n",
        "name_labels = 'female', 'male'\n",
        "sizes = [gender[1],gender[0]]\n",
        "explode = (0, 0.1) \n",
        "\n",
        "fig1, ax1 = plt.subplots()\n",
        "\n",
        "ax1.pie(sizes, explode=explode, labels=name_labels, autopct='%1.3f%%',\n",
        "        shadow=True, startangle=90)\n",
        "ax1.axis('equal')  \n",
        "\n",
        "plt.show()"
      ],
      "metadata": {
        "colab": {
          "base_uri": "https://localhost:8080/",
          "height": 248
        },
        "id": "a82LWtZS0JBB",
        "outputId": "b5001a11-7509-4eec-a0c8-6a65f3d59694"
      },
      "execution_count": 129,
      "outputs": [
        {
          "output_type": "display_data",
          "data": {
            "image/png": "[encoded data removed]",
            "text/plain": [
              "<Figure size 432x288 with 1 Axes>"
            ]
          },
          "metadata": {}
        }
      ]
    },
    {
      "cell_type": "markdown",
      "metadata": {
        "id": "jU9zJmd5IxXV"
      },
      "source": [
        "#Describe()"
      ]
    },
    {
      "cell_type": "code",
      "metadata": {
        "colab": {
          "base_uri": "https://localhost:8080/",
          "height": 300
        },
        "id": "ZhJUs2xmSaNC",
        "outputId": "cdaa432b-eff9-4d9c-9d6f-156a3be4ddbe"
      },
      "source": [
        "df.describe()"
      ],
      "execution_count": 130,
      "outputs": [
        {
          "output_type": "execute_result",
          "data": {
            "text/html": [
              "\n",
              "  <div id=\"df-56cc91be-bd14-49f8-be1e-bc80bfb524d0\">\n",
              "    <div class=\"colab-df-container\">\n",
              "      <div>\n",
              "<style scoped>\n",
              "    .dataframe tbody tr th:only-of-type {\n",
              "        vertical-align: middle;\n",
              "    }\n",
              "\n",
              "    .dataframe tbody tr th {\n",
              "        vertical-align: top;\n",
              "    }\n",
              "\n",
              "    .dataframe thead th {\n",
              "        text-align: right;\n",
              "    }\n",
              "</style>\n",
              "<table border=\"1\" class=\"dataframe\">\n",
              "  <thead>\n",
              "    <tr style=\"text-align: right;\">\n",
              "      <th></th>\n",
              "      <th>id</th>\n",
              "      <th>female</th>\n",
              "      <th>ice_cream</th>\n",
              "      <th>video</th>\n",
              "      <th>puzzle</th>\n",
              "    </tr>\n",
              "  </thead>\n",
              "  <tbody>\n",
              "    <tr>\n",
              "      <th>count</th>\n",
              "      <td>200.000000</td>\n",
              "      <td>200.00000</td>\n",
              "      <td>200.000000</td>\n",
              "      <td>200.000000</td>\n",
              "      <td>200.000000</td>\n",
              "    </tr>\n",
              "    <tr>\n",
              "      <th>mean</th>\n",
              "      <td>100.500000</td>\n",
              "      <td>0.54500</td>\n",
              "      <td>1.815000</td>\n",
              "      <td>51.850000</td>\n",
              "      <td>52.405000</td>\n",
              "    </tr>\n",
              "    <tr>\n",
              "      <th>std</th>\n",
              "      <td>57.879185</td>\n",
              "      <td>0.49922</td>\n",
              "      <td>0.856999</td>\n",
              "      <td>9.900891</td>\n",
              "      <td>10.735793</td>\n",
              "    </tr>\n",
              "    <tr>\n",
              "      <th>min</th>\n",
              "      <td>1.000000</td>\n",
              "      <td>0.00000</td>\n",
              "      <td>1.000000</td>\n",
              "      <td>26.000000</td>\n",
              "      <td>26.000000</td>\n",
              "    </tr>\n",
              "    <tr>\n",
              "      <th>25%</th>\n",
              "      <td>50.750000</td>\n",
              "      <td>0.00000</td>\n",
              "      <td>1.000000</td>\n",
              "      <td>44.000000</td>\n",
              "      <td>46.000000</td>\n",
              "    </tr>\n",
              "    <tr>\n",
              "      <th>50%</th>\n",
              "      <td>100.500000</td>\n",
              "      <td>1.00000</td>\n",
              "      <td>2.000000</td>\n",
              "      <td>53.000000</td>\n",
              "      <td>52.000000</td>\n",
              "    </tr>\n",
              "    <tr>\n",
              "      <th>75%</th>\n",
              "      <td>150.250000</td>\n",
              "      <td>1.00000</td>\n",
              "      <td>3.000000</td>\n",
              "      <td>58.000000</td>\n",
              "      <td>61.000000</td>\n",
              "    </tr>\n",
              "    <tr>\n",
              "      <th>max</th>\n",
              "      <td>200.000000</td>\n",
              "      <td>1.00000</td>\n",
              "      <td>3.000000</td>\n",
              "      <td>74.000000</td>\n",
              "      <td>71.000000</td>\n",
              "    </tr>\n",
              "  </tbody>\n",
              "</table>\n",
              "</div>\n",
              "      <button class=\"colab-df-convert\" onclick=\"convertToInteractive('df-56cc91be-bd14-49f8-be1e-bc80bfb524d0')\"\n",
              "              title=\"Convert this dataframe to an interactive table.\"\n",
              "              style=\"display:none;\">\n",
              "        \n",
              "  <svg xmlns=\"http://www.w3.org/2000/svg\" height=\"24px\"viewBox=\"0 0 24 24\"\n",
              "       width=\"24px\">\n",
              "    <path d=\"M0 0h24v24H0V0z\" fill=\"none\"/>\n",
              "    <path d=\"M18.56 5.44l.94 2.06.94-2.06 2.06-.94-2.06-.94-.94-2.06-.94 2.06-2.06.94zm-11 1L8.5 8.5l.94-2.06 2.06-.94-2.06-.94L8.5 2.5l-.94 2.06-2.06.94zm10 10l.94 2.06.94-2.06 2.06-.94-2.06-.94-.94-2.06-.94 2.06-2.06.94z\"/><path d=\"M17.41 7.96l-1.37-1.37c-.4-.4-.92-.59-1.43-.59-.52 0-1.04.2-1.43.59L10.3 9.45l-7.72 7.72c-.78.78-.78 2.05 0 2.83L4 21.41c.39.39.9.59 1.41.59.51 0 1.02-.2 1.41-.59l7.78-7.78 2.81-2.81c.8-.78.8-2.07 0-2.86zM5.41 20L4 18.59l7.72-7.72 1.47 1.35L5.41 20z\"/>\n",
              "  </svg>\n",
              "      </button>\n",
              "      \n",
              "  <style>\n",
              "    .colab-df-container {\n",
              "      display:flex;\n",
              "      flex-wrap:wrap;\n",
              "      gap: 12px;\n",
              "    }\n",
              "\n",
              "    .colab-df-convert {\n",
              "      background-color: #E8F0FE;\n",
              "      border: none;\n",
              "      border-radius: 50%;\n",
              "      cursor: pointer;\n",
              "      display: none;\n",
              "      fill: #1967D2;\n",
              "      height: 32px;\n",
              "      padding: 0 0 0 0;\n",
              "      width: 32px;\n",
              "    }\n",
              "\n",
              "    .colab-df-convert:hover {\n",
              "      background-color: #E2EBFA;\n",
              "      box-shadow: 0px 1px 2px rgba(60, 64, 67, 0.3), 0px 1px 3px 1px rgba(60, 64, 67, 0.15);\n",
              "      fill: #174EA6;\n",
              "    }\n",
              "\n",
              "    [theme=dark] .colab-df-convert {\n",
              "      background-color: #3B4455;\n",
              "      fill: #D2E3FC;\n",
              "    }\n",
              "\n",
              "    [theme=dark] .colab-df-convert:hover {\n",
              "      background-color: #434B5C;\n",
              "      box-shadow: 0px 1px 3px 1px rgba(0, 0, 0, 0.15);\n",
              "      filter: drop-shadow(0px 1px 2px rgba(0, 0, 0, 0.3));\n",
              "      fill: #FFFFFF;\n",
              "    }\n",
              "  </style>\n",
              "\n",
              "      <script>\n",
              "        const buttonEl =\n",
              "          document.querySelector('#df-56cc91be-bd14-49f8-be1e-bc80bfb524d0 button.colab-df-convert');\n",
              "        buttonEl.style.display =\n",
              "          google.colab.kernel.accessAllowed ? 'block' : 'none';\n",
              "\n",
              "        async function convertToInteractive(key) {\n",
              "          const element = document.querySelector('#df-56cc91be-bd14-49f8-be1e-bc80bfb524d0');\n",
              "          const dataTable =\n",
              "            await google.colab.kernel.invokeFunction('convertToInteractive',\n",
              "                                                     [key], {});\n",
              "          if (!dataTable) return;\n",
              "\n",
              "          const docLinkHtml = 'Like what you see? Visit the ' +\n",
              "            '<a target=\"_blank\" href=https://colab.research.google.com/notebooks/data_table.ipynb>data table notebook</a>'\n",
              "            + ' to learn more about interactive tables.';\n",
              "          element.innerHTML = '';\n",
              "          dataTable['output_type'] = 'display_data';\n",
              "          await google.colab.output.renderOutput(dataTable, element);\n",
              "          const docLink = document.createElement('div');\n",
              "          docLink.innerHTML = docLinkHtml;\n",
              "          element.appendChild(docLink);\n",
              "        }\n",
              "      </script>\n",
              "    </div>\n",
              "  </div>\n",
              "  "
            ],
            "text/plain": [
              "               id     female   ice_cream       video      puzzle\n",
              "count  200.000000  200.00000  200.000000  200.000000  200.000000\n",
              "mean   100.500000    0.54500    1.815000   51.850000   52.405000\n",
              "std     57.879185    0.49922    0.856999    9.900891   10.735793\n",
              "min      1.000000    0.00000    1.000000   26.000000   26.000000\n",
              "25%     50.750000    0.00000    1.000000   44.000000   46.000000\n",
              "50%    100.500000    1.00000    2.000000   53.000000   52.000000\n",
              "75%    150.250000    1.00000    3.000000   58.000000   61.000000\n",
              "max    200.000000    1.00000    3.000000   74.000000   71.000000"
            ]
          },
          "metadata": {},
          "execution_count": 130
        }
      ]
    },
    {
      "cell_type": "markdown",
      "metadata": {
        "id": "GLmwt8FZQZB_"
      },
      "source": [
        "#**Phân tích mối quan hệ giữa các biến**"
      ]
    },
    {
      "cell_type": "code",
      "metadata": {
        "colab": {
          "base_uri": "https://localhost:8080/",
          "height": 386
        },
        "id": "IQzvlmU1fHqd",
        "outputId": "ed5a1cb6-beb0-4a74-c62c-f937f9b692c3"
      },
      "source": [
        "sns.lmplot(x='video', \n",
        "           y='ice_cream',\n",
        "           hue = 'female', \n",
        "           data = df)"
      ],
      "execution_count": 131,
      "outputs": [
        {
          "output_type": "execute_result",
          "data": {
            "text/plain": [
              "<seaborn.axisgrid.FacetGrid at 0x7fe3fd48de50>"
            ]
          },
          "metadata": {},
          "execution_count": 131
        },
        {
          "output_type": "display_data",
          "data": {
            "image/png": "[encoded data removed]",
            "text/plain": [
              "<Figure size 402.5x360 with 1 Axes>"
            ]
          },
          "metadata": {
            "needs_background": "light"
          }
        }
      ]
    },
    {
      "cell_type": "markdown",
      "metadata": {
        "id": "SIiuX_WfhIJs"
      },
      "source": [
        "#female và video"
      ]
    },
    {
      "cell_type": "code",
      "metadata": {
        "colab": {
          "base_uri": "https://localhost:8080/",
          "height": 296
        },
        "id": "nOkJRbC7geaz",
        "outputId": "63a9ddcd-fa61-4878-c491-d7d16a195d2e"
      },
      "source": [
        "sns.boxplot(x='female',\n",
        "            y='video',\n",
        "            data = df)"
      ],
      "execution_count": 132,
      "outputs": [
        {
          "output_type": "execute_result",
          "data": {
            "text/plain": [
              "<matplotlib.axes._subplots.AxesSubplot at 0x7fe3fd711d90>"
            ]
          },
          "metadata": {},
          "execution_count": 132
        },
        {
          "output_type": "display_data",
          "data": {
            "image/png": "[encoded data removed]",
            "text/plain": [
              "<Figure size 432x288 with 1 Axes>"
            ]
          },
          "metadata": {
            "needs_background": "light"
          }
        }
      ]
    },
    {
      "cell_type": "markdown",
      "metadata": {
        "id": "LfU0gAl1hfga"
      },
      "source": [
        "#female và puzzle"
      ]
    },
    {
      "cell_type": "code",
      "metadata": {
        "colab": {
          "base_uri": "https://localhost:8080/",
          "height": 296
        },
        "id": "eIT_zXAYhFOY",
        "outputId": "931de8be-303c-405c-a4bf-62361a2a0eee"
      },
      "source": [
        "sns.boxplot(x='female',\n",
        "            y='puzzle',\n",
        "            data = df)"
      ],
      "execution_count": 133,
      "outputs": [
        {
          "output_type": "execute_result",
          "data": {
            "text/plain": [
              "<matplotlib.axes._subplots.AxesSubplot at 0x7fe407491d50>"
            ]
          },
          "metadata": {},
          "execution_count": 133
        },
        {
          "output_type": "display_data",
          "data": {
            "image/png": "[encoded data removed]",
            "text/plain": [
              "<Figure size 432x288 with 1 Axes>"
            ]
          },
          "metadata": {
            "needs_background": "light"
          }
        }
      ]
    },
    {
      "cell_type": "markdown",
      "metadata": {
        "id": "okMdrTigJwZd"
      },
      "source": [
        "#Skewed data"
      ]
    },
    {
      "cell_type": "code",
      "metadata": {
        "colab": {
          "base_uri": "https://localhost:8080/"
        },
        "id": "A9xfqqOMMtaD",
        "outputId": "2b92b076-c22b-4f26-b8e7-bde7d5ab22e3"
      },
      "source": [
        "df_nan= df.isna()\n",
        "df_sum_nan = df_nan.sum()\n",
        "df_sum_nan"
      ],
      "execution_count": 134,
      "outputs": [
        {
          "output_type": "execute_result",
          "data": {
            "text/plain": [
              "id           0\n",
              "female       0\n",
              "ice_cream    0\n",
              "video        0\n",
              "puzzle       0\n",
              "dtype: int64"
            ]
          },
          "metadata": {},
          "execution_count": 134
        }
      ]
    },
    {
      "cell_type": "markdown",
      "source": [
        "#Xây dựng mô hình đánh giá qua 10 lần lặp"
      ],
      "metadata": {
        "id": "2LSDenbT0YnR"
      }
    },
    {
      "cell_type": "code",
      "source": [
        "X = df.iloc[:,[1,3,4]]\n",
        "y = df.ice_cream\n",
        "# Sử dụng nghi thức kiểm tra hold-out\n",
        "# Chia dữ liệu ngẫu nhiên thành 2 tập dữ liệu con:\n",
        "# training set và test set theo tỷ lệ 70/30\n",
        "from sklearn.model_selection import train_test_split\n",
        "A=[]\n",
        "B=[]\n",
        "C=[]\n",
        "for i in range(10):\n",
        "  print(\"\\nLẦN \",i+1)\n",
        "  X_train, X_test, y_train, y_test = train_test_split(X, y, test_size=0.3, random_state= 390+i) \n",
        "  \n",
        "  #Kiểm tra phân phối của các lớp tập train.\n",
        "  train_lb = y_train.value_counts()\n",
        "  print(\"Phân phối của các lớp trong tập train:\\n\",train_lb)\n",
        "\n",
        "  #Cân bằng dữ liệu bằng SMOTE\n",
        "  smt = SMOTE(random_state=102)\n",
        "  X_train, y_train = smt.fit_resample(X_train, y_train)\n",
        "\n",
        "  print(\"Dữ liệu tập train sau khi cân bằng:\")\n",
        "  unique, counts = np.unique(y_train, return_counts=True)\n",
        "  print(dict(zip(unique, counts)))\n",
        "\n",
        "  #Kiểm tra phân phối của các lớp tập test.\n",
        "  test_lb = y_test.value_counts()\n",
        "  print(\"Phân phối của các lớp trong tập test:\\n\",test_lb)\n",
        "\n",
        "\n",
        "  #DecisionTreeClassifier\n",
        "  model1 = DecisionTreeClassifier(criterion=\"entropy\", min_samples_leaf=7,max_depth=7)\n",
        "  model1.fit(X_train, y_train)\n",
        "  #GaussianNB\n",
        "  model2 = GaussianNB()\n",
        "  model2.fit(X_train, y_train)\n",
        "  # Xây dựng mô hình với k = 3\n",
        "  model3 = KNeighborsClassifier(n_neighbors=3)\n",
        "  model3.fit(X_train, y_train)\n",
        "  #predict\n",
        "  y_pred1 = model1.predict(X_test) \n",
        "  y_pred2 = model2.predict(X_test) \n",
        "  y_pred3 = model3.predict(X_test) \n",
        "  #print(y_test) \n",
        "  #print(y_pred)\n",
        "  #accuracy\n",
        "  # print(\"Lần \",i+1)\n",
        "  \n",
        "  # train_lb = y_train.value_counts()\n",
        "  #tỷ lệ của các nhãn trong tập train qua mỗi lần lặp\n",
        "  # print(\"train_lb:\\n\",train_lb)\n",
        "  print(\"Do chinh xac cua mo hinh DecisionTreeClassifier voi nghi thuc kiem tra hold-out: %.3f\" % round(accuracy_score(y_test, y_pred1)*100,2))\n",
        "  A.append(round(accuracy_score(y_test, y_pred1)*100,2))\n",
        "  print(\"Do chinh xac cua mo hinh GaussianNB voi nghi thuc kiem tra hold-out:             %.3f\" % round(accuracy_score(y_test, y_pred2)*100,2))\n",
        "  B.append(round(accuracy_score(y_test, y_pred2)*100,2))\n",
        "  print(\"Do chinh xac cua mo hinh KNN voi nghi thuc kiem tra hold-out:             %.3f\" % round(accuracy_score(y_test, y_pred3)*100,2))\n",
        "  C.append(round(accuracy_score(y_test, y_pred3)*100,2))"
      ],
      "metadata": {
        "colab": {
          "base_uri": "https://localhost:8080/"
        },
        "id": "SKOfefPB0a1S",
        "outputId": "85d936e8-d969-4d2a-c82f-867f13af0239"
      },
      "execution_count": 135,
      "outputs": [
        {
          "output_type": "stream",
          "name": "stdout",
          "text": [
            "\n",
            "LẦN  1\n",
            "Phân phối của các lớp trong tập train:\n",
            " 1    66\n",
            "3    40\n",
            "2    34\n",
            "Name: ice_cream, dtype: int64\n",
            "Dữ liệu tập train sau khi cân bằng:\n",
            "{1: 66, 2: 66, 3: 66}\n",
            "Phân phối của các lớp trong tập test:\n",
            " 1    29\n",
            "3    18\n",
            "2    13\n",
            "Name: ice_cream, dtype: int64\n",
            "Do chinh xac cua mo hinh DecisionTreeClassifier voi nghi thuc kiem tra hold-out: 48.330\n",
            "Do chinh xac cua mo hinh GaussianNB voi nghi thuc kiem tra hold-out:             50.000\n",
            "Do chinh xac cua mo hinh KNN voi nghi thuc kiem tra hold-out:             38.330\n",
            "\n",
            "LẦN  2\n",
            "Phân phối của các lớp trong tập train:\n",
            " 1    69\n",
            "3    38\n",
            "2    33\n",
            "Name: ice_cream, dtype: int64\n",
            "Dữ liệu tập train sau khi cân bằng:\n",
            "{1: 69, 2: 69, 3: 69}\n",
            "Phân phối của các lớp trong tập test:\n",
            " 1    26\n",
            "3    20\n",
            "2    14\n",
            "Name: ice_cream, dtype: int64\n",
            "Do chinh xac cua mo hinh DecisionTreeClassifier voi nghi thuc kiem tra hold-out: 45.000\n",
            "Do chinh xac cua mo hinh GaussianNB voi nghi thuc kiem tra hold-out:             51.670\n",
            "Do chinh xac cua mo hinh KNN voi nghi thuc kiem tra hold-out:             48.330\n",
            "\n",
            "LẦN  3\n",
            "Phân phối của các lớp trong tập train:\n",
            " 1    65\n",
            "3    41\n",
            "2    34\n",
            "Name: ice_cream, dtype: int64\n",
            "Dữ liệu tập train sau khi cân bằng:\n",
            "{1: 65, 2: 65, 3: 65}\n",
            "Phân phối của các lớp trong tập test:\n",
            " 1    30\n",
            "3    17\n",
            "2    13\n",
            "Name: ice_cream, dtype: int64\n",
            "Do chinh xac cua mo hinh DecisionTreeClassifier voi nghi thuc kiem tra hold-out: 35.000\n",
            "Do chinh xac cua mo hinh GaussianNB voi nghi thuc kiem tra hold-out:             31.670\n",
            "Do chinh xac cua mo hinh KNN voi nghi thuc kiem tra hold-out:             51.670\n",
            "\n",
            "LẦN  4\n",
            "Phân phối của các lớp trong tập train:\n",
            " 1    63\n",
            "3    40\n",
            "2    37\n",
            "Name: ice_cream, dtype: int64\n",
            "Dữ liệu tập train sau khi cân bằng:\n",
            "{1: 63, 2: 63, 3: 63}\n",
            "Phân phối của các lớp trong tập test:\n",
            " 1    32\n",
            "3    18\n",
            "2    10\n",
            "Name: ice_cream, dtype: int64\n",
            "Do chinh xac cua mo hinh DecisionTreeClassifier voi nghi thuc kiem tra hold-out: 51.670\n",
            "Do chinh xac cua mo hinh GaussianNB voi nghi thuc kiem tra hold-out:             48.330\n",
            "Do chinh xac cua mo hinh KNN voi nghi thuc kiem tra hold-out:             51.670\n",
            "\n",
            "LẦN  5\n",
            "Phân phối của các lớp trong tập train:\n",
            " 1    71\n",
            "3    43\n",
            "2    26\n",
            "Name: ice_cream, dtype: int64\n",
            "Dữ liệu tập train sau khi cân bằng:\n",
            "{1: 71, 2: 71, 3: 71}\n",
            "Phân phối của các lớp trong tập test:\n",
            " 1    24\n",
            "2    21\n",
            "3    15\n",
            "Name: ice_cream, dtype: int64\n",
            "Do chinh xac cua mo hinh DecisionTreeClassifier voi nghi thuc kiem tra hold-out: 38.330\n",
            "Do chinh xac cua mo hinh GaussianNB voi nghi thuc kiem tra hold-out:             31.670\n",
            "Do chinh xac cua mo hinh KNN voi nghi thuc kiem tra hold-out:             43.330\n",
            "\n",
            "LẦN  6\n",
            "Phân phối của các lớp trong tập train:\n",
            " 1    61\n",
            "3    42\n",
            "2    37\n",
            "Name: ice_cream, dtype: int64\n",
            "Dữ liệu tập train sau khi cân bằng:\n",
            "{1: 61, 2: 61, 3: 61}\n",
            "Phân phối của các lớp trong tập test:\n",
            " 1    34\n",
            "3    16\n",
            "2    10\n",
            "Name: ice_cream, dtype: int64\n",
            "Do chinh xac cua mo hinh DecisionTreeClassifier voi nghi thuc kiem tra hold-out: 43.330\n",
            "Do chinh xac cua mo hinh GaussianNB voi nghi thuc kiem tra hold-out:             30.000\n",
            "Do chinh xac cua mo hinh KNN voi nghi thuc kiem tra hold-out:             48.330\n",
            "\n",
            "LẦN  7\n",
            "Phân phối của các lớp trong tập train:\n",
            " 1    67\n",
            "3    39\n",
            "2    34\n",
            "Name: ice_cream, dtype: int64\n",
            "Dữ liệu tập train sau khi cân bằng:\n",
            "{1: 67, 2: 67, 3: 67}\n",
            "Phân phối của các lớp trong tập test:\n",
            " 1    28\n",
            "3    19\n",
            "2    13\n",
            "Name: ice_cream, dtype: int64\n",
            "Do chinh xac cua mo hinh DecisionTreeClassifier voi nghi thuc kiem tra hold-out: 28.330\n",
            "Do chinh xac cua mo hinh GaussianNB voi nghi thuc kiem tra hold-out:             50.000\n",
            "Do chinh xac cua mo hinh KNN voi nghi thuc kiem tra hold-out:             50.000\n",
            "\n",
            "LẦN  8\n",
            "Phân phối của các lớp trong tập train:\n",
            " 1    66\n",
            "3    41\n",
            "2    33\n",
            "Name: ice_cream, dtype: int64\n",
            "Dữ liệu tập train sau khi cân bằng:\n",
            "{1: 66, 2: 66, 3: 66}\n",
            "Phân phối của các lớp trong tập test:\n",
            " 1    29\n",
            "3    17\n",
            "2    14\n",
            "Name: ice_cream, dtype: int64\n",
            "Do chinh xac cua mo hinh DecisionTreeClassifier voi nghi thuc kiem tra hold-out: 33.330\n",
            "Do chinh xac cua mo hinh GaussianNB voi nghi thuc kiem tra hold-out:             45.000\n",
            "Do chinh xac cua mo hinh KNN voi nghi thuc kiem tra hold-out:             50.000\n",
            "\n",
            "LẦN  9\n",
            "Phân phối của các lớp trong tập train:\n",
            " 1    69\n",
            "3    36\n",
            "2    35\n",
            "Name: ice_cream, dtype: int64\n",
            "Dữ liệu tập train sau khi cân bằng:\n",
            "{1: 69, 2: 69, 3: 69}\n",
            "Phân phối của các lớp trong tập test:\n",
            " 1    26\n",
            "3    22\n",
            "2    12\n",
            "Name: ice_cream, dtype: int64\n",
            "Do chinh xac cua mo hinh DecisionTreeClassifier voi nghi thuc kiem tra hold-out: 48.330\n",
            "Do chinh xac cua mo hinh GaussianNB voi nghi thuc kiem tra hold-out:             46.670\n",
            "Do chinh xac cua mo hinh KNN voi nghi thuc kiem tra hold-out:             53.330\n",
            "\n",
            "LẦN  10\n",
            "Phân phối của các lớp trong tập train:\n",
            " 1    67\n",
            "3    43\n",
            "2    30\n",
            "Name: ice_cream, dtype: int64\n",
            "Dữ liệu tập train sau khi cân bằng:\n",
            "{1: 67, 2: 67, 3: 67}\n",
            "Phân phối của các lớp trong tập test:\n",
            " 1    28\n",
            "2    17\n",
            "3    15\n",
            "Name: ice_cream, dtype: int64\n",
            "Do chinh xac cua mo hinh DecisionTreeClassifier voi nghi thuc kiem tra hold-out: 40.000\n",
            "Do chinh xac cua mo hinh GaussianNB voi nghi thuc kiem tra hold-out:             33.330\n",
            "Do chinh xac cua mo hinh KNN voi nghi thuc kiem tra hold-out:             48.330\n"
          ]
        }
      ]
    },
    {
      "cell_type": "markdown",
      "source": [
        "#Trung bình của 10 lần lặp\n",
        "thấy không chênh lệch quá nhiều giữa 2 thuật toán cây quyết định và navie bayes"
      ],
      "metadata": {
        "id": "rU1D_CgN0fYq"
      }
    },
    {
      "cell_type": "code",
      "source": [
        "tb_tree=0\n",
        "tb_nb=0\n",
        "tb_knn=0\n",
        "\n",
        "for i in range(10):\n",
        "  tb_tree+=A[i]\n",
        "  tb_nb+=B[i]\n",
        "  tb_knn+=C[i]\n",
        "\n",
        "print(\"Cay quyet dinh :\", round(tb_tree/10, 2))\n",
        "print(\"Navie Bayes :\", round(tb_nb/10, 2))\n",
        "print(\"KNN :\", round(tb_knn/10, 2))"
      ],
      "metadata": {
        "colab": {
          "base_uri": "https://localhost:8080/"
        },
        "id": "zDojjIaa0j0a",
        "outputId": "bb386770-6a15-45bf-992e-6a1f35497146"
      },
      "execution_count": 136,
      "outputs": [
        {
          "output_type": "stream",
          "name": "stdout",
          "text": [
            "Cay quyet dinh : 41.16\n",
            "Navie Bayes : 41.83\n",
            "KNN : 48.33\n"
          ]
        }
      ]
    },
    {
      "cell_type": "markdown",
      "source": [
        "#Vẽ biểu đồ độ chính xác của 3 thuật toán trên"
      ],
      "metadata": {
        "id": "I0pWAV7-0m1C"
      }
    },
    {
      "cell_type": "code",
      "source": [
        "loop = ['1', '2', '3', '4', '5', '6', '7', '8', '9', '10']\n",
        "decisiontree = [A[0], A[1], A[2], A[3], A[4], A[5], A[6], A[7], A[8], A[9]]\n",
        "nb = [B[0], B[1], B[2], B[3], B[4], B[5], B[6], B[7], B[8], B[9]]\n",
        "knn = [C[0], C[1], C[2], C[3], C[4], C[5], C[6], C[7], C[8], C[9]]\n",
        "\n",
        "plt.figure(figsize=(40,20))\n",
        "index = np.arange(10)\n",
        "width = 0.3\n",
        "plt.bar(index, decisiontree, width, color = 'pink', label = 'DecisionTree')\n",
        "plt.bar(index+width, nb, width, color = 'cyan', label = 'Navie Bayes')\n",
        "plt.bar(index+2*width, knn, width, color = 'blue', label = 'KNN')\n",
        "\n",
        "def addlabels(x,y):\n",
        "    for i in range(len(loop)):\n",
        "        plt.text(i, y[i]//2, y[i], ha = 'center', Bbox = dict(facecolor = 'red', alpha =.5), fontsize=16)\n",
        "\n",
        "def addlabels2(x,y):\n",
        "    for i in range(len(loop)):\n",
        "        plt.text(i+width, y[i]//2, y[i], ha = 'center', Bbox = dict(facecolor = 'red', alpha =.3), fontsize=16)\n",
        "\n",
        "def addlabels3(x,y):\n",
        "    for i in range(len(loop)):\n",
        "        plt.text(i+2*width, y[i]//2, y[i], ha = 'center', Bbox = dict(facecolor = 'red', alpha =.3), fontsize=16)\n",
        "        \n",
        "addlabels(index, decisiontree)\n",
        "\n",
        "addlabels2(index+width, nb)\n",
        "\n",
        "addlabels3(index+2*width, knn)\n",
        "\n",
        "\n",
        "\n",
        "plt.ylabel('Percent', fontsize=20)\n",
        "plt.xlabel('Lần lặp', fontsize=20)\n",
        "plt.yticks(fontsize = 30)\n",
        "plt.xticks(index + width, loop, fontsize = 30)\n",
        "\n",
        "plt.legend(loc='center left', bbox_to_anchor=(1, 0.5), prop={'size': 20})\n",
        "\n",
        "\n",
        "plt.show()"
      ],
      "metadata": {
        "colab": {
          "base_uri": "https://localhost:8080/",
          "height": 668
        },
        "id": "tzvfhYeB0n76",
        "outputId": "20b9954d-5c23-42d8-e6a6-aef073f0e1bf"
      },
      "execution_count": 137,
      "outputs": [
        {
          "output_type": "display_data",
          "data": {
            "image/png": "[encoded data removed]",
            "text/plain": [
              "<Figure size 2880x1440 with 1 Axes>"
            ]
          },
          "metadata": {
            "needs_background": "light"
          }
        }
      ]
    }
  ]
}